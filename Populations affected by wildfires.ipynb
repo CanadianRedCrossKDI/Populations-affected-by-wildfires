{
 "cells": [
  {
   "cell_type": "code",
   "execution_count": 42,
   "metadata": {
    "scrolled": true
   },
   "outputs": [
    {
     "name": "stdout",
     "output_type": "stream",
     "text": [
      "Total Population affected: 199610.0\n",
      "Total Population affected by Province:\n",
      "    PRUID                   Province  Affected population count\n",
      "8      59           British Columbia                    95659.0\n",
      "7      48                    Alberta                    45805.0\n",
      "6      47               Saskatchewan                    16310.0\n",
      "5      46                   Manitoba                    11303.0\n",
      "1      12                Nova Scotia                     8322.0\n",
      "3      24                     Quebec                     7190.0\n",
      "10     61      Northwest Territories                     5685.0\n",
      "4      35                    Ontario                     5554.0\n",
      "9      60                      Yukon                     2322.0\n",
      "0      10  Newfoundland and Labrador                      786.0\n",
      "2      13              New Brunswick                      656.0\n",
      "11     62                    Nunavut                       18.0\n"
     ]
    }
   ],
   "source": [
    "import pandas as pd\n",
    "\n",
    "#Import data (note: fire shapefiles used is progression from NRC)\n",
    "intersection_df = pd.read_csv(r'C:\\Users\\selamin\\Documents\\intersectionallprovinces2.csv')\n",
    "census_df = pd.read_csv(r'C:\\Users\\selamin\\Documents\\Shapefiles\\censusbyDA.csv')\n",
    "\n",
    "#View imported tables\n",
    "intersection_df.head()\n",
    "census_df.head()"
   ]
  },
  {
   "cell_type": "code",
   "execution_count": 49,
   "metadata": {},
   "outputs": [
    {
     "name": "stdout",
     "output_type": "stream",
     "text": [
      "<class 'pandas.core.frame.DataFrame'>\n",
      "Int64Index: 424 entries, 0 to 14444\n",
      "Data columns (total 23 columns):\n",
      " #   Column                                                                                       Non-Null Count  Dtype  \n",
      "---  ------                                                                                       --------------  -----  \n",
      " 0   DAUID                                                                                        424 non-null    object \n",
      " 1   DGUID_x                                                                                      424 non-null    object \n",
      " 2   LANDAREA                                                                                     424 non-null    float64\n",
      " 3   PRUID                                                                                        424 non-null    int64  \n",
      " 4   CLUSTERID                                                                                    424 non-null    int64  \n",
      " 5   DATE                                                                                         424 non-null    int64  \n",
      " 6   AREA                                                                                         424 non-null    float64\n",
      " 7   C_AREA                                                                                       424 non-null    float64\n",
      " 8   FWI                                                                                          418 non-null    float64\n",
      " 9   CONSIS_ID                                                                                    424 non-null    int64  \n",
      " 10  DATE2                                                                                        424 non-null    object \n",
      " 11  DATE3                                                                                        424 non-null    object \n",
      " 12  MonthYear                                                                                    424 non-null    object \n",
      " 13  REF_DATE                                                                                     424 non-null    int64  \n",
      " 14  censusDAUID                                                                                  424 non-null    object \n",
      " 15  DGUID_y                                                                                      424 non-null    object \n",
      " 16  Coordinate                                                                                   424 non-null    int64  \n",
      " 17  Population                                                                                   424 non-null    float64\n",
      " 18  Population and dwelling counts (5): Total private dwellings, 2021 [2]                        424 non-null    float64\n",
      " 19  Population and dwelling counts (5): Private dwellings occupied by usual residents, 2021 [3]  424 non-null    float64\n",
      " 20  Population and dwelling counts (5): Land area in square kilometres, 2021 [4]                 424 non-null    float64\n",
      " 21  Population and dwelling counts (5): Population density per square kilometre, 2021 [5]        424 non-null    float64\n",
      " 22  Province                                                                                     424 non-null    object \n",
      "dtypes: float64(9), int64(6), object(8)\n",
      "memory usage: 79.5+ KB\n"
     ]
    }
   ],
   "source": [
    "#Convert data types for uniformity\n",
    "intersection_df['DAUID'] = intersection_df['DAUID'].astype(str)\n",
    "census_df['censusDAUID'] = census_df['censusDAUID'].astype(str)\n",
    "# Convert the 'Population' column to numeric\n",
    "census_df['Population'] = pd.to_numeric(census_df['Population'], errors='coerce')\n",
    "\n",
    "#Merge the two dfs\n",
    "merged_df = intersection_df.merge(census_df, left_on='DAUID', right_on='censusDAUID', how='left')\n",
    "\n",
    "#Filter out rows with no match\n",
    "merged_df = merged_df.dropna(subset=['Population'])\n",
    "\n",
    "#Keep the first match and drop duplicates\n",
    "merged_df = merged_df.drop_duplicates(subset='DAUID', keep='first')\n",
    "\n",
    "# Define a dictionary to map PRUID values to province names\n",
    "pruid_to_province = {\n",
    "    48: 'Alberta',\n",
    "    59: 'British Columbia',\n",
    "    46: 'Manitoba',\n",
    "    13: 'New Brunswick',\n",
    "    10: 'Newfoundland and Labrador',\n",
    "    61: 'Northwest Territories',\n",
    "    12: 'Nova Scotia',\n",
    "    62: 'Nunavut',\n",
    "    35: 'Ontario',\n",
    "    11: 'Prince Edward Island',\n",
    "    24: 'Quebec',\n",
    "    47: 'Saskatchewan',\n",
    "    60: 'Yukon'\n",
    "}\n",
    "# Create a new column 'Province' by mapping 'PRUID' values\n",
    "merged_df['Province'] = merged_df['PRUID'].map(pruid_to_province)\n",
    "\n",
    "#View final table\n",
    "merged_df.head()\n",
    "merged_df.info()\n"
   ]
  },
  {
   "cell_type": "code",
   "execution_count": 50,
   "metadata": {},
   "outputs": [],
   "source": [
    "\n",
    "#Export final csv\n",
    "merged_df.to_csv(r'C:\\Users\\selamin\\Documents\\Population_in_fire_zone2.csv', index=False)\n",
    "\n"
   ]
  },
  {
   "cell_type": "code",
   "execution_count": 51,
   "metadata": {},
   "outputs": [
    {
     "name": "stdout",
     "output_type": "stream",
     "text": [
      "Total Population affected: 199610.0\n",
      "Total Population affected by Province:\n",
      "    PRUID                   Province  Affected population count\n",
      "8      59           British Columbia                    95659.0\n",
      "7      48                    Alberta                    45805.0\n",
      "6      47               Saskatchewan                    16310.0\n",
      "5      46                   Manitoba                    11303.0\n",
      "1      12                Nova Scotia                     8322.0\n",
      "3      24                     Quebec                     7190.0\n",
      "10     61      Northwest Territories                     5685.0\n",
      "4      35                    Ontario                     5554.0\n",
      "9      60                      Yukon                     2322.0\n",
      "0      10  Newfoundland and Labrador                      786.0\n",
      "2      13              New Brunswick                      656.0\n",
      "11     62                    Nunavut                       18.0\n"
     ]
    }
   ],
   "source": [
    "#Quick Look at Population Totals by Province\n",
    "\n",
    "#Sum the 'Population' values for the matching rows\n",
    "total_population = merged_df['Population'].sum()\n",
    "\n",
    "#Groupby province name\n",
    "province_population = merged_df.groupby(['PRUID','Province'])['Population'].sum().reset_index()\n",
    "\n",
    "# Rename the 'Population' column to 'Affected population count'\n",
    "province_population.rename(columns={'Population': 'Affected population count'}, inplace=True)\n",
    "\n",
    "# Sort the table in descending order of the 'Affected population count'\n",
    "province_population = province_population.sort_values(by='Affected population count', ascending=False)\n",
    "\n",
    "# Print the updated table\n",
    "print(\"Total Population affected:\", total_population)\n",
    "print(\"Total Population affected by Province:\")\n",
    "print(province_population)\n"
   ]
  },
  {
   "cell_type": "code",
   "execution_count": null,
   "metadata": {},
   "outputs": [],
   "source": []
  }
 ],
 "metadata": {
  "kernelspec": {
   "display_name": "Python 3",
   "language": "python",
   "name": "python3"
  },
  "language_info": {
   "codemirror_mode": {
    "name": "ipython",
    "version": 3
   },
   "file_extension": ".py",
   "mimetype": "text/x-python",
   "name": "python",
   "nbconvert_exporter": "python",
   "pygments_lexer": "ipython3",
   "version": "3.8.5"
  }
 },
 "nbformat": 4,
 "nbformat_minor": 4
}
